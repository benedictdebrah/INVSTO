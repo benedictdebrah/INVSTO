{
 "cells": [
  {
   "attachments": {},
   "cell_type": "markdown",
   "metadata": {},
   "source": [
    "To process and get overview of the dataset"
   ]
  },
  {
   "cell_type": "code",
   "execution_count": 14,
   "metadata": {},
   "outputs": [],
   "source": [
    "#importing libraries for data prep\n",
    "import pandas as pd\n",
    "import numpy as np\n",
    "import os\n",
    "import psycopg2 as pg\n"
   ]
  },
  {
   "cell_type": "code",
   "execution_count": 6,
   "metadata": {},
   "outputs": [],
   "source": [
    "df = pd.read_excel('..\\data\\HINDALCO_1D.xlsx')"
   ]
  },
  {
   "cell_type": "code",
   "execution_count": 7,
   "metadata": {},
   "outputs": [
    {
     "data": {
      "text/html": [
       "<div>\n",
       "<style scoped>\n",
       "    .dataframe tbody tr th:only-of-type {\n",
       "        vertical-align: middle;\n",
       "    }\n",
       "\n",
       "    .dataframe tbody tr th {\n",
       "        vertical-align: top;\n",
       "    }\n",
       "\n",
       "    .dataframe thead th {\n",
       "        text-align: right;\n",
       "    }\n",
       "</style>\n",
       "<table border=\"1\" class=\"dataframe\">\n",
       "  <thead>\n",
       "    <tr style=\"text-align: right;\">\n",
       "      <th></th>\n",
       "      <th>datetime</th>\n",
       "      <th>close</th>\n",
       "      <th>high</th>\n",
       "      <th>low</th>\n",
       "      <th>open</th>\n",
       "      <th>volume</th>\n",
       "      <th>instrument</th>\n",
       "    </tr>\n",
       "  </thead>\n",
       "  <tbody>\n",
       "    <tr>\n",
       "      <th>0</th>\n",
       "      <td>2014-01-24</td>\n",
       "      <td>114.00</td>\n",
       "      <td>115.35</td>\n",
       "      <td>113.00</td>\n",
       "      <td>113.15</td>\n",
       "      <td>5737135</td>\n",
       "      <td>HINDALCO</td>\n",
       "    </tr>\n",
       "    <tr>\n",
       "      <th>1</th>\n",
       "      <td>2014-01-27</td>\n",
       "      <td>111.10</td>\n",
       "      <td>112.70</td>\n",
       "      <td>109.30</td>\n",
       "      <td>112.00</td>\n",
       "      <td>8724577</td>\n",
       "      <td>HINDALCO</td>\n",
       "    </tr>\n",
       "    <tr>\n",
       "      <th>2</th>\n",
       "      <td>2014-01-28</td>\n",
       "      <td>113.80</td>\n",
       "      <td>115.00</td>\n",
       "      <td>109.75</td>\n",
       "      <td>110.00</td>\n",
       "      <td>4513345</td>\n",
       "      <td>HINDALCO</td>\n",
       "    </tr>\n",
       "    <tr>\n",
       "      <th>3</th>\n",
       "      <td>2014-01-29</td>\n",
       "      <td>111.75</td>\n",
       "      <td>114.75</td>\n",
       "      <td>111.15</td>\n",
       "      <td>114.50</td>\n",
       "      <td>4713458</td>\n",
       "      <td>HINDALCO</td>\n",
       "    </tr>\n",
       "    <tr>\n",
       "      <th>4</th>\n",
       "      <td>2014-01-30</td>\n",
       "      <td>108.10</td>\n",
       "      <td>110.70</td>\n",
       "      <td>107.60</td>\n",
       "      <td>110.20</td>\n",
       "      <td>5077231</td>\n",
       "      <td>HINDALCO</td>\n",
       "    </tr>\n",
       "  </tbody>\n",
       "</table>\n",
       "</div>"
      ],
      "text/plain": [
       "    datetime   close    high     low    open   volume instrument\n",
       "0 2014-01-24  114.00  115.35  113.00  113.15  5737135   HINDALCO\n",
       "1 2014-01-27  111.10  112.70  109.30  112.00  8724577   HINDALCO\n",
       "2 2014-01-28  113.80  115.00  109.75  110.00  4513345   HINDALCO\n",
       "3 2014-01-29  111.75  114.75  111.15  114.50  4713458   HINDALCO\n",
       "4 2014-01-30  108.10  110.70  107.60  110.20  5077231   HINDALCO"
      ]
     },
     "execution_count": 7,
     "metadata": {},
     "output_type": "execute_result"
    }
   ],
   "source": [
    "df.head()"
   ]
  },
  {
   "cell_type": "code",
   "execution_count": 9,
   "metadata": {},
   "outputs": [
    {
     "data": {
      "text/plain": [
       "datetime      0\n",
       "close         0\n",
       "high          0\n",
       "low           0\n",
       "open          0\n",
       "volume        0\n",
       "instrument    0\n",
       "dtype: int64"
      ]
     },
     "execution_count": 9,
     "metadata": {},
     "output_type": "execute_result"
    }
   ],
   "source": [
    "df.isnull().sum()"
   ]
  },
  {
   "cell_type": "code",
   "execution_count": 10,
   "metadata": {},
   "outputs": [
    {
     "data": {
      "text/plain": [
       "datetime      datetime64[ns]\n",
       "close                float64\n",
       "high                 float64\n",
       "low                  float64\n",
       "open                 float64\n",
       "volume                 int64\n",
       "instrument            object\n",
       "dtype: object"
      ]
     },
     "execution_count": 10,
     "metadata": {},
     "output_type": "execute_result"
    }
   ],
   "source": [
    "df.dtypes"
   ]
  },
  {
   "attachments": {},
   "cell_type": "markdown",
   "metadata": {},
   "source": [
    "The datatypes are in the right format"
   ]
  },
  {
   "cell_type": "code",
   "execution_count": 16,
   "metadata": {},
   "outputs": [
    {
     "data": {
      "text/plain": [
       "(1215, 7)"
      ]
     },
     "execution_count": 16,
     "metadata": {},
     "output_type": "execute_result"
    }
   ],
   "source": [
    "df.shape"
   ]
  },
  {
   "cell_type": "code",
   "execution_count": null,
   "metadata": {},
   "outputs": [],
   "source": []
  }
 ],
 "metadata": {
  "kernelspec": {
   "display_name": "venv",
   "language": "python",
   "name": "python3"
  },
  "language_info": {
   "codemirror_mode": {
    "name": "ipython",
    "version": 3
   },
   "file_extension": ".py",
   "mimetype": "text/x-python",
   "name": "python",
   "nbconvert_exporter": "python",
   "pygments_lexer": "ipython3",
   "version": "3.10.11"
  },
  "orig_nbformat": 4
 },
 "nbformat": 4,
 "nbformat_minor": 2
}
